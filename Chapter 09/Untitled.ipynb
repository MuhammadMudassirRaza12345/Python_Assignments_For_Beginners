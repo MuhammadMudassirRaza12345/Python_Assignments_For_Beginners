{
 "cells": [
  {
   "cell_type": "code",
   "execution_count": 1,
   "id": "ddf93aa3",
   "metadata": {},
   "outputs": [],
   "source": [
    " \n",
    "#1.Write a program to read the text from a given file, “poems.txt” and find out whether it contains the word ‘twinkle’.\n",
    "\n",
    "with open(\"poems.txt\",\"w\") as file:\n",
    "    file.write(\"twinkle\")\n",
    "\n",
    "\n",
    "\n",
    "\n",
    "\n"
   ]
  },
  {
   "cell_type": "code",
   "execution_count": 2,
   "id": "bec867c9",
   "metadata": {},
   "outputs": [
    {
     "name": "stdout",
     "output_type": "stream",
     "text": [
      "{'twinkle'} Poem present\n"
     ]
    }
   ],
   "source": [
    "with open(\"poems.txt\",\"r\") as file:\n",
    "    data=file.read()\n",
    "    if data == \"twinkle\":\n",
    "        print({data},\"Poem present\")\n",
    "    else :\n",
    "         print(\"Poem present\")\n",
    "        "
   ]
  },
  {
   "cell_type": "code",
   "execution_count": 3,
   "id": "cea5c29f",
   "metadata": {},
   "outputs": [],
   "source": [
    "#2. The game() function in a program lets a user play a game and returns the score as an integer. You need to read a file “Hiscore.txt” which is either blank or contains the previous Hi-score. You need to write a program to update the Hi-score whenever game() breaks the Hi-Score.\n",
    "with open(\"hiscore.txt\",\"w\") as file:\n",
    "    file.write(\"22\")\n",
    "\n",
    "\n",
    "\n",
    "\n",
    "\n",
    "\n"
   ]
  },
  {
   "cell_type": "code",
   "execution_count": 4,
   "id": "a66243d9",
   "metadata": {},
   "outputs": [],
   "source": [
    "\n",
    "\n",
    "file=open(\"hiscore.txt\",\"r\")\n",
    "c=file.read()\n",
    "# print(c)\n",
    "score=int(c)\n",
    "file.close()\n",
    "\n"
   ]
  },
  {
   "cell_type": "code",
   "execution_count": 5,
   "id": "ceddb8a4",
   "metadata": {},
   "outputs": [
    {
     "name": "stdout",
     "output_type": "stream",
     "text": [
      "Enter ur new score22\n"
     ]
    }
   ],
   "source": [
    "new_score=int(input(\"Enter ur new score\"))\n",
    "if score<new_score:\n",
    "    file=open(\"hiscore\",\"w\")\n",
    "    file.write(c)\n"
   ]
  },
  {
   "cell_type": "code",
   "execution_count": 6,
   "id": "61b08a0e",
   "metadata": {},
   "outputs": [
    {
     "name": "stdout",
     "output_type": "stream",
     "text": [
      "2 x 1 = 2\n",
      "2 x 2 = 4\n",
      "2 x 3 = 6\n",
      "2 x 4 = 8\n",
      "2 x 5 = 10\n",
      "2 x 6 = 12\n",
      "2 x 7 = 14\n",
      "2 x 8 = 16\n",
      "2 x 9 = 18\n",
      "2 x 10 = 20\n"
     ]
    }
   ],
   "source": [
    "#3. Write a program to generate multiplication tables from 2 to 20 and write it to the different files. Place these files in a folder for a 13- year old boy.\n",
    "import table\n",
    "table.table(2)\n",
    " \n"
   ]
  },
  {
   "cell_type": "code",
   "execution_count": 7,
   "id": "d7bd7452",
   "metadata": {},
   "outputs": [],
   "source": [
    "with open('untitled1.txt','w') as f:\n",
    "     f.write(\"Donkey \\n Donkey \\n Donkey\")"
   ]
  },
  {
   "cell_type": "code",
   "execution_count": 16,
   "id": "a4163c12",
   "metadata": {},
   "outputs": [
    {
     "name": "stdout",
     "output_type": "stream",
     "text": [
      "Lion \n",
      " Lion \n",
      " Lion\n",
      "Text replaced\n"
     ]
    }
   ],
   "source": [
    "#4. A file contains the word “Donkey” multiple times. You need to write a program which replaces this word with ###### by updating the same file.\n",
    "search_text=\"Donkey\"\n",
    "replace_text=\"Lion\"\n",
    "with open('untitled1.txt','r') as f:\n",
    "    data=f.read()\n",
    "    result=data.replace(search_text,replace_text) \n",
    "    print(result)\n",
    "        \n",
    "   # Opening our text file in write only\n",
    "# # mode to write the replaced content     \n",
    "with open('untitled1.txt','w') as f: \n",
    "    f.write(result)\n",
    "    \n",
    "        \n",
    "# Printing Text replaced\n",
    "print(\"Text replaced\")        \n",
    "        \n",
    "  \n",
    "\n",
    " #creating a variable and storing the text\n",
    "# # that we want to add\n",
    "# replace_text = \"replaced\"\n",
    "  \n",
    "# # Opening our text file in read only\n",
    "# # mode using the open() function\n",
    "# with open(r'SampleFile.txt', 'r') as file:\n",
    "  \n",
    "#     # Reading the content of the file\n",
    "#     # using the read() function and storing\n",
    "#     # them in a new variable\n",
    "#     data = file.read()\n",
    "  \n",
    "#     # Searching and replacing the text\n",
    "#     # using the replace() function\n",
    "#     data = data.replace(search_text, replace_text)\n",
    "  \n",
    "# # Opening our text file in write only\n",
    "# # mode to write the replaced content\n",
    "# with open(r'SampleFile.txt', 'w') as file:\n",
    "  \n",
    "#     # Writing the replaced data in our\n",
    "#     # text file\n",
    "#     file.write(data)\n",
    "  \n",
    "# # Printing Text replaced\n",
    "# print(\"Text replaced\")\n",
    "    \n",
    "\n",
    "\n",
    "\n",
    "\n",
    "\n"
   ]
  },
  {
   "cell_type": "code",
   "execution_count": 22,
   "id": "652af046",
   "metadata": {},
   "outputs": [
    {
     "name": "stdout",
     "output_type": "stream",
     "text": [
      "['apple', 'banna', 'mango']\n"
     ]
    }
   ],
   "source": [
    "#5. Repeat program 4 for a list of such words to be censored.\n",
    "list=[\"apple\",\"banna\",\"censored\"]\n",
    "for  i in range(len(list)):\n",
    "    if list[i] == \"censored\":\n",
    "        list[i] = \"mango\"\n",
    "         \n",
    "print(list)\n"
   ]
  },
  {
   "cell_type": "code",
   "execution_count": 24,
   "id": "f96d71f1",
   "metadata": {},
   "outputs": [
    {
     "name": "stdout",
     "output_type": "stream",
     "text": [
      "Yes python is present\n"
     ]
    }
   ],
   "source": [
    "#6. Write a program to mine a log file and find out whether it contains ‘python’.\n",
    "\n",
    "with open(\"log.txt\") as f:\n",
    "    content = f.read()\n",
    "\n",
    "if 'python' in content.lower():\n",
    "    print(\"Yes python is present\")\n",
    "else:\n",
    "    print(\"No python is not present\")\n",
    "\n",
    "\n"
   ]
  },
  {
   "cell_type": "code",
   "execution_count": 26,
   "id": "15b5f8dd",
   "metadata": {},
   "outputs": [
    {
     "name": "stdout",
     "output_type": "stream",
     "text": [
      "python\n",
      "Yes python is present on line number 1\n"
     ]
    }
   ],
   "source": [
    "#7 Write a program to find out the line number where python is present from question 6.\n",
    "content = True\n",
    "i = 1\n",
    "with open(\"log.txt\") as f:\n",
    "    while content:\n",
    "        content = f.readline()\n",
    "        if 'python' in content.lower():\n",
    "            print(content)\n",
    "            print(f\"Yes python is present on line number {i}\") \n",
    "        i+=1 \n",
    "\n",
    "    "
   ]
  },
  {
   "cell_type": "code",
   "execution_count": 25,
   "id": "777dae44",
   "metadata": {},
   "outputs": [],
   "source": [
    "# Write a program to make a copy of a text file “this.txt.”\n",
    "with open(\"log.txt\") as f:\n",
    "    content = f.read()\n",
    "\n",
    "with open(\"copy.txt\", 'w') as f:\n",
    "    f.write(content)\n",
    "    "
   ]
  },
  {
   "cell_type": "code",
   "execution_count": 27,
   "id": "eef4c4e8",
   "metadata": {},
   "outputs": [
    {
     "name": "stdout",
     "output_type": "stream",
     "text": [
      "Files are identical\n"
     ]
    }
   ],
   "source": [
    "# Write a program to find out whether a file is identical and matches the content of another file.\n",
    "file1 = \"log.txt\"\n",
    "file2 = \"copy.txt\"\n",
    "\n",
    "with open(file1) as f:\n",
    "    f1 = f.read()\n",
    "\n",
    "with open(file2) as f:\n",
    "    f2= f.read()\n",
    "\n",
    "if f1 == f2:\n",
    "    print(\"Files are identical\")\n",
    "else:\n",
    "    print(\"Files are not identical\")"
   ]
  },
  {
   "cell_type": "code",
   "execution_count": 28,
   "id": "cdfffe4e",
   "metadata": {},
   "outputs": [],
   "source": [
    "# Write a program to wipe out the contents of a file using python.\n",
    "\n",
    "filename = \"sample.txt\"\n",
    "with open(filename, \"w\") as f:\n",
    "    f.write(\"\")\n"
   ]
  },
  {
   "cell_type": "code",
   "execution_count": 29,
   "id": "f40991c3",
   "metadata": {},
   "outputs": [],
   "source": [
    "# Write a python program to rename a file to “renamed_by_python.txt.”\n",
    "\n",
    "import os\n",
    "\n",
    "oldname = \"sample.txt\"\n",
    "newname = \"renamed_by_python.txt\"\n",
    "with open(oldname) as f:\n",
    "    content = f.read()\n",
    "\n",
    "with open(newname, \"w\") as f:\n",
    "    f.write(content)\n",
    "\n",
    "os.remove(oldname)"
   ]
  },
  {
   "cell_type": "code",
   "execution_count": null,
   "id": "fd1c792f",
   "metadata": {},
   "outputs": [],
   "source": []
  }
 ],
 "metadata": {
  "kernelspec": {
   "display_name": "Python 3 (ipykernel)",
   "language": "python",
   "name": "python3"
  },
  "language_info": {
   "codemirror_mode": {
    "name": "ipython",
    "version": 3
   },
   "file_extension": ".py",
   "mimetype": "text/x-python",
   "name": "python",
   "nbconvert_exporter": "python",
   "pygments_lexer": "ipython3",
   "version": "3.9.12"
  }
 },
 "nbformat": 4,
 "nbformat_minor": 5
}
