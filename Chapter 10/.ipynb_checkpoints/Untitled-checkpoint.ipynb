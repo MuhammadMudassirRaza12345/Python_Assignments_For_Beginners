{
 "cells": [
  {
   "cell_type": "code",
   "execution_count": 1,
   "id": "030ecf0c",
   "metadata": {},
   "outputs": [],
   "source": [
    "#1.Create a class programmer for storing information of a few programmers working at Microsoft.\n",
    "class Programmer:\n",
    "    company = \"Microsoft\"\n",
    "\n",
    "    def __init__(self, name, product):\n",
    "        self.name = name\n",
    "        self.product = product\n",
    "\n",
    "    def getInfo(self):\n",
    "        print(f\"The name of the {self.company} programmer is {self.name} and the product is {self.product}\")\n",
    "\n",
    "\n",
    "\n",
    "\n"
   ]
  },
  {
   "cell_type": "code",
   "execution_count": 4,
   "id": "a5b3d14a",
   "metadata": {},
   "outputs": [
    {
     "name": "stdout",
     "output_type": "stream",
     "text": [
      "The name of the Microsoft programmer is Mudassir and the product is Github\n"
     ]
    }
   ],
   "source": [
    "p1=Programmer(\"Mudassir\",\"Github\")\n",
    "p1.getInfo()\n"
   ]
  },
  {
   "cell_type": "code",
   "execution_count": 5,
   "id": "9196160f",
   "metadata": {},
   "outputs": [
    {
     "name": "stdout",
     "output_type": "stream",
     "text": [
      "The name of the Microsoft programmer is Raza and the product is skype\n"
     ]
    }
   ],
   "source": [
    "p2=Programmer(\"Raza\",\"skype\")\n",
    "p2.getInfo()"
   ]
  },
  {
   "cell_type": "code",
   "execution_count": 10,
   "id": "daf430e2",
   "metadata": {},
   "outputs": [
    {
     "name": "stdout",
     "output_type": "stream",
     "text": [
      "------square-------\n",
      "4\n",
      "-----cube-------\n",
      "8\n",
      "-----square_root-------\n",
      "1.4142135623730951\n"
     ]
    }
   ],
   "source": [
    "#2.Write a class calculator capable of finding square, cube, and the square root of a number.\n",
    "import math\n",
    "class Calculator:\n",
    "    def __init__(self,number):\n",
    "        self.number=number\n",
    "        \n",
    "    def square(self):\n",
    "        print(\"------square-------\")\n",
    "        print(self.number **2)\n",
    "        \n",
    "    def cube(self):\n",
    "        print(\"-----cube-------\")\n",
    "        print(self.number **3)   \n",
    "        \n",
    "        \n",
    "    def square_root(self):\n",
    "        print(\"-----square_root-------\")\n",
    "        print(math.sqrt(self.number))   \n",
    "            \n",
    "    @staticmethod\n",
    "    def greet():\n",
    "        print(\"*******Hello there welcome to the best calculator of the world*******\")    \n",
    "        \n",
    "\n",
    "num1=Calculator(2)   \n",
    "num1.square()\n",
    "num1.cube()\n",
    "num1.square_root()"
   ]
  },
  {
   "cell_type": "code",
   "execution_count": 12,
   "id": "8cbca43d",
   "metadata": {},
   "outputs": [
    {
     "name": "stdout",
     "output_type": "stream",
     "text": [
      "raza\n",
      "ali\n"
     ]
    }
   ],
   "source": [
    "#3.Create a class with a class attribute a; create an object from it and set a directly using object.a=0 Does this change the class attribute?\n",
    "class Sample():\n",
    "    a=\"raza\"\n",
    "    \n",
    "obj = Sample()    \n",
    "obj.a = \"ali\"    \n",
    "    \n",
    "print(Sample.a)\n",
    "print(obj.a)   \n",
    "\n",
    "\n",
    "\n"
   ]
  },
  {
   "cell_type": "code",
   "execution_count": 14,
   "id": "b4728f09",
   "metadata": {},
   "outputs": [
    {
     "name": "stdout",
     "output_type": "stream",
     "text": [
      "------square-------\n",
      "4\n",
      "-----cube-------\n",
      "8\n",
      "-----square_root-------\n",
      "1.4142135623730951\n",
      "*******Hello there welcome to the best calculator of the world*******\n"
     ]
    }
   ],
   "source": [
    "#4.Add a static method in problem 2 to greet the user with hello.\n",
    "\n",
    "import math\n",
    "class Calculator:\n",
    "    def __init__(self,number):\n",
    "        self.number=number\n",
    "        \n",
    "    def square(self):\n",
    "        print(\"------square-------\")\n",
    "        print(self.number **2)\n",
    "        \n",
    "    def cube(self):\n",
    "        print(\"-----cube-------\")\n",
    "        print(self.number **3)   \n",
    "        \n",
    "        \n",
    "    def square_root(self):\n",
    "        print(\"-----square_root-------\")\n",
    "        print(math.sqrt(self.number))   \n",
    "            \n",
    "    @staticmethod\n",
    "    def greet():\n",
    "        print(\"*******Hello there welcome to the best calculator of the world*******\")    \n",
    "        \n",
    "\n",
    "num1=Calculator(2)   \n",
    "num1.square()\n",
    "num1.cube()\n",
    "num1.square_root()\n",
    "num1.greet()"
   ]
  },
  {
   "cell_type": "code",
   "execution_count": 15,
   "id": "368240db",
   "metadata": {},
   "outputs": [
    {
     "name": "stdout",
     "output_type": "stream",
     "text": [
      "************\n",
      "The name of the train is Intercity Express: 14015\n",
      "The seats available in the train are 2\n",
      "************\n",
      "Your ticket has been booked! Your seat number is 2\n",
      "Your ticket has been booked! Your seat number is 1\n",
      "Sorry this train is full! Kindly try in tatkal\n",
      "************\n",
      "The name of the train is Intercity Express: 14015\n",
      "The seats available in the train are 0\n",
      "************\n"
     ]
    }
   ],
   "source": [
    "#5.Write a class Train which has methods to book a ticket, get status(no of seats), and get fare information of trains running under Indian Railways.\n",
    "\n",
    "class Train:\n",
    "    def __init__(self,name,fare,seats):\n",
    "        self.name = name\n",
    "        self.fare = fare\n",
    "        self.seats = seats\n",
    "\n",
    "    def getStatus(self):\n",
    "        print(\"************\")\n",
    "        print(f\"The name of the train is {self.name}\")\n",
    "        print(f\"The seats available in the train are {self.seats}\")\n",
    "        print(\"************\")    \n",
    "\n",
    "   \n",
    "    def fareInfo(self):\n",
    "        print(f\"The price of the ticket is: Rs {self.fare}\")\n",
    "\n",
    "\n",
    "    def bookTicket(self):\n",
    "        if(self.seats>0):\n",
    "            print(f\"Your ticket has been booked! Your seat number is {self.seats}\")\n",
    "            self.seats = self.seats - 1\n",
    "        else:\n",
    "            print(\"Sorry this train is full! Kindly try in tatkal\")\n",
    "\n",
    "    def cancelTicket(self, seatNo):\n",
    "        pass\n",
    "\n",
    "\n",
    "    \n",
    "    \n",
    "'''\n",
    "1 2 3 4 5 6 7 8 9 10\n",
    "'''\n",
    "\n",
    " \n",
    " \n",
    "\n",
    "    \n",
    "\n",
    "intercity = Train(\"Intercity Express: 14015\", 90, 2)\n",
    "intercity.getStatus() \n",
    "intercity.bookTicket()\n",
    "intercity.bookTicket()\n",
    "intercity.bookTicket()\n",
    "intercity.getStatus()\n"
   ]
  },
  {
   "cell_type": "code",
   "execution_count": 16,
   "id": "4e6ade2d",
   "metadata": {},
   "outputs": [
    {
     "name": "stdout",
     "output_type": "stream",
     "text": [
      "Raza\n"
     ]
    }
   ],
   "source": [
    "#6.Can you change the self parameter inside a class to something else (say ‘harry’)? Try changing self to ‘slf’ or ‘harry’ and see the effects.\n",
    "\n",
    "\n",
    "class Sample: \n",
    "    def __init__(slf, name):\n",
    "        slf.name = name\n",
    "\n",
    "obj = Sample(\"Raza\") \n",
    "print(obj.name) \n",
    " "
   ]
  },
  {
   "cell_type": "code",
   "execution_count": null,
   "id": "8849cebe",
   "metadata": {},
   "outputs": [],
   "source": []
  }
 ],
 "metadata": {
  "kernelspec": {
   "display_name": "Python 3 (ipykernel)",
   "language": "python",
   "name": "python3"
  },
  "language_info": {
   "codemirror_mode": {
    "name": "ipython",
    "version": 3
   },
   "file_extension": ".py",
   "mimetype": "text/x-python",
   "name": "python",
   "nbconvert_exporter": "python",
   "pygments_lexer": "ipython3",
   "version": "3.9.12"
  }
 },
 "nbformat": 4,
 "nbformat_minor": 5
}
