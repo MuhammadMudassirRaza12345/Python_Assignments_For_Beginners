{
 "cells": [
  {
   "cell_type": "code",
   "execution_count": 1,
   "id": "42f6bed8",
   "metadata": {},
   "outputs": [
    {
     "name": "stdout",
     "output_type": "stream",
     "text": [
      "1i + 3j\n",
      "1i + 9j + 7k\n"
     ]
    }
   ],
   "source": [
    "#Create a class C-2d vector and use it to create another class representing a 3-d vector.\n",
    "class C2dVec:\n",
    "    def __init__(self, i, j):\n",
    "        self.icap = i\n",
    "        self.jcap = j\n",
    "\n",
    "    def __str__(self):\n",
    "        return f\"{self.icap}i + {self.jcap}j\"\n",
    "\n",
    "class C3dVec(C2dVec):\n",
    "    def __init__(self, i, j, k):\n",
    "        super().__init__(i, j)\n",
    "        self.kcap = k\n",
    "    \n",
    "    def __str__(self):\n",
    "        return f\"{self.icap}i + {self.jcap}j + {self.kcap}k\"\n",
    "    \n",
    "    \n",
    "v2d = C2dVec(1, 3)\n",
    "v3d = C3dVec(1, 9, 7)\n",
    "print(v2d)\n",
    "print(v3d)\n",
    "\n"
   ]
  },
  {
   "cell_type": "code",
   "execution_count": 2,
   "id": "6dfb9264",
   "metadata": {},
   "outputs": [
    {
     "name": "stdout",
     "output_type": "stream",
     "text": [
      "Bow bow!\n"
     ]
    }
   ],
   "source": [
    "#Create a class of pets from a class Animals and further create class Dog from Pets. Add a method bark to class Dog.\n",
    "class Animals:\n",
    "    animalType = \"Mammal\"\n",
    "\n",
    "class Pets:\n",
    "    color = \"White\"\n",
    "\n",
    "class Dog:\n",
    "    @staticmethod\n",
    "    def bark():\n",
    "        print(\"Bow bow!\")\n",
    "\n",
    "d  = Dog()\n",
    "d.bark()\n"
   ]
  },
  {
   "cell_type": "code",
   "execution_count": 6,
   "id": "cf47a38e",
   "metadata": {},
   "outputs": [
    {
     "name": "stdout",
     "output_type": "stream",
     "text": [
      "1500.0\n",
      "1.5\n",
      "2.0\n"
     ]
    }
   ],
   "source": [
    "#Create a class Employee and add salary and increment properties to it.\n",
    "# salaryAfterIncrement =  salary * increment\n",
    "\n",
    "class Employee:\n",
    "    salary = 1000\n",
    "    increment = 1.5\n",
    "    @property\n",
    "    def salaryAfterIncrement(self):\n",
    "        return self.salary*self.increment\n",
    "    \n",
    "    @salaryAfterIncrement.setter\n",
    "    def salaryAfterIncrement(self, sai):\n",
    "        self.increment = sai/self.salary\n",
    "\n",
    "e = Employee()\n",
    "print(e.salaryAfterIncrement)\n",
    "\n",
    "print(e.increment)\n",
    "e.salaryAfterIncrement = 2000\n",
    "print(e.increment)\n",
    "\n"
   ]
  },
  {
   "cell_type": "code",
   "execution_count": 5,
   "id": "4e4e959d",
   "metadata": {},
   "outputs": [
    {
     "name": "stdout",
     "output_type": "stream",
     "text": [
      "1500.0\n",
      "1.5\n",
      "2.0\n"
     ]
    }
   ],
   "source": [
    "#Write a method SalaryAfterIncrement method with a @property decorator with a setter which changes the value of increment based on the salary.\n",
    "class Employee:\n",
    "    salary = 1000\n",
    "    increment = 1.5\n",
    "    @property\n",
    "    def salaryAfterIncrement(self):\n",
    "        return self.salary*self.increment\n",
    "    \n",
    "    @salaryAfterIncrement.setter\n",
    "    def salaryAfterIncrement(self, sai):\n",
    "        self.increment = sai/self.salary\n",
    "\n",
    "e = Employee()\n",
    "print(e.salaryAfterIncrement)\n",
    "\n",
    "\n",
    "print(e.increment)\n",
    "e.salaryAfterIncrement = 2000\n",
    "print(e.increment)\n",
    "\n"
   ]
  },
  {
   "cell_type": "code",
   "execution_count": 4,
   "id": "9f61804a",
   "metadata": {},
   "outputs": [
    {
     "name": "stdout",
     "output_type": "stream",
     "text": [
      "332 - 41i\n",
      "183 - 1361i\n"
     ]
    }
   ],
   "source": [
    "#Write a class complex to represent complex numbers, along with overloaded operators + and * which adds and multiplies them.\n",
    "class Complex:\n",
    "    def __init__(self, r, i):\n",
    "        self.real = r \n",
    "        self.imaginary = i\n",
    "\n",
    "    def __add__(self, c):\n",
    "        return Complex(self.real + c.real, self.imaginary + c.imaginary)\n",
    "    \n",
    "    def __mul__(self, c):\n",
    "        mulReal =  self.real*c.real - self.imaginary*c.imaginary\n",
    "        mulImg =  self.real*c.imaginary + self.imaginary*c.real\n",
    "        return Complex(mulReal, mulImg)\n",
    "\n",
    "    def __str__(self):\n",
    "        if self.imaginary<0:\n",
    "            return f\"{self.real} - {-self.imaginary}i\"\n",
    "        else:\n",
    "            return f\"{self.real} + {self.imaginary}i\"\n",
    "\n",
    "c1 = Complex(1, -4)\n",
    "c2 = Complex(331, -37)\n",
    "print(c1 + c2)\n",
    "print(c1 * c2)\n",
    "# (a+bi)(c+di) = (ac−bd) + (ad+bc)i"
   ]
  },
  {
   "cell_type": "code",
   "execution_count": null,
   "id": "ad66b0b7",
   "metadata": {},
   "outputs": [],
   "source": [
    "#Write a class vector representing a vector of n dimension. Overload the + and * operator which calculates the sum and the dot product of them.\n"
   ]
  },
  {
   "cell_type": "code",
   "execution_count": 7,
   "id": "73a01681",
   "metadata": {},
   "outputs": [
    {
     "name": "stdout",
     "output_type": "stream",
     "text": [
      " 2a0 + 10a1 + 15a2 \n",
      "79\n"
     ]
    }
   ],
   "source": [
    "#Write __str__() method to print the vector as follows: \n",
    "#7i + 8j + 10k\n",
    "\n",
    "class Vector:\n",
    "    def __init__(self, vec):\n",
    "       self.vec = vec\n",
    "    \n",
    "    def __str__(self):\n",
    "        str1 = \"\" \n",
    "        index = 0\n",
    "        for i in self.vec:\n",
    "            str1 += f\" {i}a{index} +\"\n",
    "            index +=1\n",
    "        return str1[:-1]\n",
    "\n",
    "    def __add__(self, vec2):\n",
    "        newList = []\n",
    "        for i in range(len(self.vec)):\n",
    "            newList.append(self.vec[i] + vec2.vec[i])\n",
    "        return Vector(newList)\n",
    "    \n",
    "    def __mul__(self, vec2):\n",
    "        sum = 0\n",
    "        for i in range(len(self.vec)):\n",
    "            sum += self.vec[i] * vec2.vec[i]\n",
    "        return sum\n",
    "\n",
    "v1 = Vector([1, 4, 6])\n",
    "v2 = Vector([1, 6, 9])\n",
    "print(v1+v2)\n",
    "print(v1*v2)\n"
   ]
  },
  {
   "cell_type": "code",
   "execution_count": null,
   "id": "e5c5758c",
   "metadata": {},
   "outputs": [],
   "source": [
    "#Assume vector of dimension 3 for this problem.\n",
    "\n"
   ]
  },
  {
   "cell_type": "code",
   "execution_count": 8,
   "id": "bfc04a6a",
   "metadata": {},
   "outputs": [
    {
     "name": "stdout",
     "output_type": "stream",
     "text": [
      "4\n",
      "3\n"
     ]
    }
   ],
   "source": [
    "#Override the __len__() method on vector of problem 5 to display the dimension of the vector.\n",
    "class Vector:\n",
    "    def __init__(self, vec):\n",
    "       self.vec = vec\n",
    "    \n",
    "    def __str__(self):\n",
    "        str1 = \"\" \n",
    "        index = 0\n",
    "        for i in self.vec:\n",
    "            str1 += f\" {i}a{index} +\"\n",
    "            index +=1\n",
    "        return str1[:-1]\n",
    "\n",
    "    def __add__(self, vec2):\n",
    "        newList = []\n",
    "        for i in range(len(self.vec)):\n",
    "            newList.append(self.vec[i] + vec2.vec[i])\n",
    "        return Vector(newList)\n",
    "    \n",
    "    def __mul__(self, vec2):\n",
    "        sum = 0\n",
    "        for i in range(len(self.vec)):\n",
    "            sum += self.vec[i] * vec2.vec[i]\n",
    "        return sum\n",
    "    \n",
    "    def __len__(self):\n",
    "        return len(self.vec)\n",
    "\n",
    "v1 = Vector([1, 4, 6, 6])\n",
    "v2 = Vector([1, 6, 9])\n",
    "print(len(v1))\n",
    "print(len(v2))"
   ]
  },
  {
   "cell_type": "code",
   "execution_count": null,
   "id": "8d4e1fb0",
   "metadata": {},
   "outputs": [],
   "source": [
    "# Project 2: Snake, Water, Gun Game\n",
    "# We are going to write a program that generates a random number and asks the user to guess it.\n",
    "\n",
    "# If the player’s guess is higher than the actual number, the program displays “Lower number please”. Similarly, if the user’s guess is too low, the program prints “higher number please”.\n",
    "\n",
    "# When the user guesses the correct number, the program displays the number of guesses the player used to arrive at the number.\n",
    "\n",
    "# Hint: Use the random module\n",
    "\n",
    "\n"
   ]
  },
  {
   "cell_type": "code",
   "execution_count": null,
   "id": "36f4aa08",
   "metadata": {},
   "outputs": [],
   "source": []
  },
  {
   "cell_type": "code",
   "execution_count": null,
   "id": "666fad2a",
   "metadata": {},
   "outputs": [],
   "source": []
  },
  {
   "cell_type": "code",
   "execution_count": null,
   "id": "fbcfb9ba",
   "metadata": {},
   "outputs": [],
   "source": []
  },
  {
   "cell_type": "code",
   "execution_count": null,
   "id": "12f8041e",
   "metadata": {},
   "outputs": [],
   "source": []
  },
  {
   "cell_type": "code",
   "execution_count": null,
   "id": "5a8c57e6",
   "metadata": {},
   "outputs": [],
   "source": []
  },
  {
   "cell_type": "code",
   "execution_count": null,
   "id": "4a04a61a",
   "metadata": {},
   "outputs": [],
   "source": []
  },
  {
   "cell_type": "code",
   "execution_count": null,
   "id": "5ae81706",
   "metadata": {},
   "outputs": [],
   "source": []
  },
  {
   "cell_type": "code",
   "execution_count": null,
   "id": "a7748bbd",
   "metadata": {},
   "outputs": [],
   "source": []
  },
  {
   "cell_type": "code",
   "execution_count": null,
   "id": "ab405203",
   "metadata": {},
   "outputs": [],
   "source": []
  },
  {
   "cell_type": "code",
   "execution_count": null,
   "id": "cdaa1986",
   "metadata": {},
   "outputs": [],
   "source": []
  },
  {
   "cell_type": "code",
   "execution_count": null,
   "id": "9b4f002c",
   "metadata": {},
   "outputs": [],
   "source": []
  },
  {
   "cell_type": "code",
   "execution_count": null,
   "id": "ba208499",
   "metadata": {},
   "outputs": [],
   "source": []
  },
  {
   "cell_type": "code",
   "execution_count": null,
   "id": "e06ba9d9",
   "metadata": {},
   "outputs": [],
   "source": []
  },
  {
   "cell_type": "code",
   "execution_count": null,
   "id": "3d11036f",
   "metadata": {},
   "outputs": [],
   "source": []
  },
  {
   "cell_type": "code",
   "execution_count": null,
   "id": "95f7917f",
   "metadata": {},
   "outputs": [],
   "source": []
  },
  {
   "cell_type": "code",
   "execution_count": null,
   "id": "a7df6d3e",
   "metadata": {},
   "outputs": [],
   "source": []
  },
  {
   "cell_type": "code",
   "execution_count": null,
   "id": "2590136e",
   "metadata": {},
   "outputs": [],
   "source": []
  },
  {
   "cell_type": "code",
   "execution_count": null,
   "id": "c273ef5f",
   "metadata": {},
   "outputs": [],
   "source": []
  },
  {
   "cell_type": "code",
   "execution_count": null,
   "id": "0eea7f71",
   "metadata": {},
   "outputs": [],
   "source": []
  },
  {
   "cell_type": "code",
   "execution_count": null,
   "id": "c23ee2ba",
   "metadata": {},
   "outputs": [],
   "source": []
  },
  {
   "cell_type": "code",
   "execution_count": null,
   "id": "7590ca26",
   "metadata": {},
   "outputs": [],
   "source": []
  },
  {
   "cell_type": "code",
   "execution_count": null,
   "id": "060cd946",
   "metadata": {},
   "outputs": [],
   "source": []
  },
  {
   "cell_type": "code",
   "execution_count": null,
   "id": "e7bb5ddc",
   "metadata": {},
   "outputs": [],
   "source": []
  },
  {
   "cell_type": "code",
   "execution_count": null,
   "id": "e7ec7652",
   "metadata": {},
   "outputs": [],
   "source": []
  },
  {
   "cell_type": "code",
   "execution_count": null,
   "id": "a72e720a",
   "metadata": {},
   "outputs": [],
   "source": []
  },
  {
   "cell_type": "code",
   "execution_count": null,
   "id": "bcdb2849",
   "metadata": {},
   "outputs": [],
   "source": []
  },
  {
   "cell_type": "code",
   "execution_count": null,
   "id": "c74bc135",
   "metadata": {},
   "outputs": [],
   "source": []
  },
  {
   "cell_type": "code",
   "execution_count": null,
   "id": "ad96d03c",
   "metadata": {},
   "outputs": [],
   "source": []
  },
  {
   "cell_type": "code",
   "execution_count": null,
   "id": "3dac7ce2",
   "metadata": {},
   "outputs": [],
   "source": []
  },
  {
   "cell_type": "code",
   "execution_count": null,
   "id": "02dcf422",
   "metadata": {},
   "outputs": [],
   "source": []
  }
 ],
 "metadata": {
  "kernelspec": {
   "display_name": "Python 3 (ipykernel)",
   "language": "python",
   "name": "python3"
  },
  "language_info": {
   "codemirror_mode": {
    "name": "ipython",
    "version": 3
   },
   "file_extension": ".py",
   "mimetype": "text/x-python",
   "name": "python",
   "nbconvert_exporter": "python",
   "pygments_lexer": "ipython3",
   "version": "3.9.12"
  }
 },
 "nbformat": 4,
 "nbformat_minor": 5
}
