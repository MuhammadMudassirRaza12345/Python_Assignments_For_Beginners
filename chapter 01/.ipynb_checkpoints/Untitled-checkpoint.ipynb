{
 "cells": [
  {
   "cell_type": "code",
   "execution_count": 3,
   "id": "79546273",
   "metadata": {},
   "outputs": [
    {
     "name": "stdout",
     "output_type": "stream",
     "text": [
      "Hello World\n"
     ]
    }
   ],
   "source": [
    "print(\"Hello World\")    \n",
    "# print is a function (more later)"
   ]
  },
  {
   "cell_type": "code",
   "execution_count": 4,
   "id": "f7d56c94",
   "metadata": {},
   "outputs": [
    {
     "name": "stdout",
     "output_type": "stream",
     "text": [
      "Twinkle, twinkle, little star, \n",
      "\tHow I wonder what you are! \n",
      "\t\tUp above the world so high, \n",
      "\t\tLike a diamond in the sky. \n",
      "Twinkle, twinkle, little star, \n",
      "\tHow I wonder what you are!\n"
     ]
    }
   ],
   "source": [
    "#Write a program to print Twinkle-Twinkle Little Star poem in python.\n",
    "print(\"Twinkle, twinkle, little star, \\n\\tHow I wonder what you are! \\n\\t\\tUp above the world so high, \\n\\t\\tLike a diamond in the sky. \\nTwinkle, twinkle, little star, \\n\\tHow I wonder what you are!\")"
   ]
  },
  {
   "cell_type": "code",
   "execution_count": 8,
   "id": "ed21199b",
   "metadata": {},
   "outputs": [
    {
     "name": "stdout",
     "output_type": "stream",
     "text": [
      "5\n",
      "10\n",
      "15\n",
      "20\n",
      "25\n"
     ]
    }
   ],
   "source": [
    "#Use REPL and print the table of 5 using it.\n",
    "#Read Evaluate print loop -->REPL\n",
    "print(5*1)\n",
    "print(5*2)\n",
    "print(5*3)\n",
    "print(5*4)\n",
    "print(5*5)\n",
    " "
   ]
  },
  {
   "cell_type": "code",
   "execution_count": 9,
   "id": "20a3ca22",
   "metadata": {},
   "outputs": [
    {
     "ename": "SyntaxError",
     "evalue": "invalid syntax (1132911977.py, line 1)",
     "output_type": "error",
     "traceback": [
      "\u001b[1;36m  Input \u001b[1;32mIn [9]\u001b[1;36m\u001b[0m\n\u001b[1;33m    Install an external module and use it to perform an operation of your interest.\u001b[0m\n\u001b[1;37m            ^\u001b[0m\n\u001b[1;31mSyntaxError\u001b[0m\u001b[1;31m:\u001b[0m invalid syntax\n"
     ]
    }
   ],
   "source": [
    "#Install an external module and use it to perform an operation of your interest.\n",
    "#pip install flask\n",
    "#import flask\n"
   ]
  },
  {
   "cell_type": "code",
   "execution_count": 10,
   "id": "969c1b0d",
   "metadata": {},
   "outputs": [
    {
     "name": "stdout",
     "output_type": "stream",
     "text": [
      "['.ipynb_checkpoints', 'Untitled.ipynb', 'untitled.txt']\n"
     ]
    }
   ],
   "source": [
    "#Write a python program to print the contents of a directory using os module\n",
    "import os\n",
    "print(os.listdir())"
   ]
  },
  {
   "cell_type": "code",
   "execution_count": 12,
   "id": "6e1e1c6f",
   "metadata": {},
   "outputs": [
    {
     "name": "stdout",
     "output_type": "stream",
     "text": [
      "This is a comment\n",
      "Author: Harry\n",
      "Date: 27 November 2020\n",
      "Multi-line comment ends here\n",
      "\n"
     ]
    }
   ],
   "source": [
    "#Label the program written in problem 4 with comments.\n",
    "print('''This is a comment\n",
    "Author: Harry\n",
    "Date: 27 November 2020\n",
    "Multi-line comment ends here\n",
    "''')"
   ]
  },
  {
   "cell_type": "code",
   "execution_count": null,
   "id": "8f9ab6ad",
   "metadata": {},
   "outputs": [],
   "source": []
  }
 ],
 "metadata": {
  "kernelspec": {
   "display_name": "Python 3 (ipykernel)",
   "language": "python",
   "name": "python3"
  },
  "language_info": {
   "codemirror_mode": {
    "name": "ipython",
    "version": 3
   },
   "file_extension": ".py",
   "mimetype": "text/x-python",
   "name": "python",
   "nbconvert_exporter": "python",
   "pygments_lexer": "ipython3",
   "version": "3.9.12"
  }
 },
 "nbformat": 4,
 "nbformat_minor": 5
}
