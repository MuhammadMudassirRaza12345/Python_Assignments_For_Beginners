{
 "cells": [
  {
   "cell_type": "code",
   "execution_count": 1,
   "id": "50129b74",
   "metadata": {},
   "outputs": [
    {
     "name": "stdout",
     "output_type": "stream",
     "text": [
      "5\n"
     ]
    }
   ],
   "source": [
    "#Write a Python program to add two numbers.\n",
    "a=2+3\n",
    "print(a)"
   ]
  },
  {
   "cell_type": "code",
   "execution_count": 2,
   "id": "12677634",
   "metadata": {},
   "outputs": [
    {
     "name": "stdout",
     "output_type": "stream",
     "text": [
      "1\n"
     ]
    }
   ],
   "source": [
    "#Write a Python program to find the remainder when a number is divided by Z(Integer).\n",
    "a=3%2\n",
    "print(a)"
   ]
  },
  {
   "cell_type": "code",
   "execution_count": 3,
   "id": "0acb1cc3",
   "metadata": {},
   "outputs": [
    {
     "name": "stdout",
     "output_type": "stream",
     "text": [
      "raza\n",
      "<class 'str'>\n"
     ]
    }
   ],
   "source": [
    "#Check the type of the variable assigned using the input() function.\n",
    "a=input(\"\")\n",
    "print(type(a))"
   ]
  },
  {
   "cell_type": "code",
   "execution_count": 4,
   "id": "c6073387",
   "metadata": {},
   "outputs": [
    {
     "name": "stdout",
     "output_type": "stream",
     "text": [
      " b is greater\n"
     ]
    }
   ],
   "source": [
    "#Use a comparison operator to find out whether a given variable a is greater than b or not. (Take a=34 and b=80)\n",
    "a=34 \n",
    "b=80\n",
    "if a > b:\n",
    "    print(\" a is greater\")\n",
    "else:\n",
    "     print(\" b is greater\")"
   ]
  },
  {
   "cell_type": "code",
   "execution_count": 5,
   "id": "1536847c",
   "metadata": {},
   "outputs": [
    {
     "name": "stdout",
     "output_type": "stream",
     "text": [
      "3.5\n"
     ]
    }
   ],
   "source": [
    "#Write a Python program to find the average of two numbers entered by the user.\n",
    "a=2\n",
    "b=3\n",
    "avg=a+b/2\n",
    "print(avg)\n"
   ]
  },
  {
   "cell_type": "code",
   "execution_count": 6,
   "id": "b4cead9d",
   "metadata": {},
   "outputs": [
    {
     "name": "stdout",
     "output_type": "stream",
     "text": [
      "Enter the number2\n",
      "4\n"
     ]
    }
   ],
   "source": [
    "#Write a Python program to calculate the square of a number entered by the user.\n",
    "a=int(input(\"Enter the number\"))\n",
    "print(a**2)"
   ]
  },
  {
   "cell_type": "code",
   "execution_count": null,
   "id": "f01cbde8",
   "metadata": {},
   "outputs": [],
   "source": []
  }
 ],
 "metadata": {
  "kernelspec": {
   "display_name": "Python 3 (ipykernel)",
   "language": "python",
   "name": "python3"
  },
  "language_info": {
   "codemirror_mode": {
    "name": "ipython",
    "version": 3
   },
   "file_extension": ".py",
   "mimetype": "text/x-python",
   "name": "python",
   "nbconvert_exporter": "python",
   "pygments_lexer": "ipython3",
   "version": "3.9.12"
  }
 },
 "nbformat": 4,
 "nbformat_minor": 5
}
