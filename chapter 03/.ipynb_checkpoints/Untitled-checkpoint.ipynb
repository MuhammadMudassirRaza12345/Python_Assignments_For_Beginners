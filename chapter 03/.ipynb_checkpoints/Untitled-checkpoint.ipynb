{
 "cells": [
  {
   "cell_type": "code",
   "execution_count": 1,
   "id": "ad1ad867",
   "metadata": {},
   "outputs": [
    {
     "name": "stdout",
     "output_type": "stream",
     "text": [
      "what is your nameraza\n",
      "Good Afternoon raza\n"
     ]
    }
   ],
   "source": [
    "#1.Write a Python program to display a user-entered name followed by Good Afternoon using input() function.\n",
    "name=input(\"what is your name\")\n",
    "print(\"Good Afternoon\",name)\n"
   ]
  },
  {
   "cell_type": "code",
   "execution_count": 2,
   "id": "ff1a4313",
   "metadata": {},
   "outputs": [
    {
     "name": "stdout",
     "output_type": "stream",
     "text": [
      "what is your nameraza\n",
      "Enter the Date like 22-2-202215-9-2022\n",
      "('Dear', 'raza', 'You are selected', '15-9-2022')\n"
     ]
    }
   ],
   "source": [
    "#2.Write a program to fill in a letter template given below with name and date.\n",
    "name=input(\"what is your name\")\n",
    "date=input(\"Enter the Date like 22-2-2022\")\n",
    "letter=\"Dear\",name,\"You are selected\",date\n",
    "print(letter)"
   ]
  },
  {
   "cell_type": "code",
   "execution_count": 3,
   "id": "50060b3f",
   "metadata": {},
   "outputs": [
    {
     "name": "stdout",
     "output_type": "stream",
     "text": [
      "The original string is : Geeks  forGeeks\n",
      "Does string contain spaces ? True\n"
     ]
    }
   ],
   "source": [
    "#3.\tWrite a program to detect double spaces in a string.\n",
    "\n",
    "# Python3 code to demonstrate working of\n",
    "# Check for spaces in string\n",
    "# Using in operator\n",
    " \n",
    "# initializing string\n",
    "test_str = \"Geeks  forGeeks\"\n",
    " \n",
    "# printing original string\n",
    "print(\"The original string is : \" + test_str)\n",
    " \n",
    "# Using in operator\n",
    "# Check for spaces\n",
    "res = \" \" in test_str\n",
    " \n",
    "# printing result\n",
    "print(\"Does string contain spaces ? \" + str(res))\n",
    " "
   ]
  },
  {
   "cell_type": "code",
   "execution_count": 4,
   "id": "c841f5d8",
   "metadata": {},
   "outputs": [
    {
     "name": "stdout",
     "output_type": "stream",
     "text": [
      "'avocado banana kiwi apricot'\n"
     ]
    }
   ],
   "source": [
    "#4.Replace the double spaces from problem 3 with single spaces.\n",
    "\n",
    "import re\n",
    "\n",
    "my_str = 'avocado   banana  kiwi   apricot'\n",
    "\n",
    "# ✅ replace multiple whitespace characters with single space\n",
    "\n",
    "result = \" \".join(my_str.split())\n",
    "print(repr(result)) "
   ]
  },
  {
   "cell_type": "code",
   "execution_count": 5,
   "id": "09d6980c",
   "metadata": {},
   "outputs": [
    {
     "name": "stdout",
     "output_type": "stream",
     "text": [
      "Dear Harry,\n",
      " This Python course in nice.\n",
      " Thanks\n",
      "\n"
     ]
    }
   ],
   "source": [
    "#5.Write a program to format the following letter using escape sequence characters.\n",
    "letter = \"Dear Harry,\\n This Python course in nice.\\n Thanks\\n\"\n",
    "print(letter)"
   ]
  },
  {
   "cell_type": "code",
   "execution_count": null,
   "id": "11c89d35",
   "metadata": {},
   "outputs": [],
   "source": []
  }
 ],
 "metadata": {
  "kernelspec": {
   "display_name": "Python 3 (ipykernel)",
   "language": "python",
   "name": "python3"
  },
  "language_info": {
   "codemirror_mode": {
    "name": "ipython",
    "version": 3
   },
   "file_extension": ".py",
   "mimetype": "text/x-python",
   "name": "python",
   "nbconvert_exporter": "python",
   "pygments_lexer": "ipython3",
   "version": "3.9.12"
  }
 },
 "nbformat": 4,
 "nbformat_minor": 5
}
