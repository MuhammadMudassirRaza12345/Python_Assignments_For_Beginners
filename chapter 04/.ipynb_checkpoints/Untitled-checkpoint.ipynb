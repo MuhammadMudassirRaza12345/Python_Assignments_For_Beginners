{
 "cells": [
  {
   "cell_type": "code",
   "execution_count": 1,
   "id": "7f1c98b2",
   "metadata": {},
   "outputs": [
    {
     "data": {
      "text/plain": [
       "['orange', 'grapes', 'banana']"
      ]
     },
     "execution_count": 1,
     "metadata": {},
     "output_type": "execute_result"
    }
   ],
   "source": [
    "#1.Write a program to store seven fruits in a list entered by the user.\n",
    "list1=[\"orange\",\"grapes\",\"banana\",]\n",
    "list1"
   ]
  },
  {
   "cell_type": "code",
   "execution_count": 5,
   "id": "7d243b17",
   "metadata": {},
   "outputs": [
    {
     "name": "stdout",
     "output_type": "stream",
     "text": [
      "Enter the marks3\n",
      "Enter the marks7\n",
      "Enter the marks1\n",
      "Enter the marks4\n",
      "Enter the marks6\n",
      "Enter the marks2\n",
      "[1, 2, 3, 4, 6, 7]\n"
     ]
    }
   ],
   "source": [
    "#2.Write a program to accept the marks of 6 students and display them in a sorted manner.\n",
    "marks=[]\n",
    "\n",
    " \n",
    "for mark in range(1,7):\n",
    "    mark=int(input(\"Enter the marks\"))\n",
    "    \n",
    "    marks.append(mark)\n",
    "     \n",
    "marks.sort()\n",
    "print(marks)\n",
    "    \n",
    "    "
   ]
  },
  {
   "cell_type": "code",
   "execution_count": 8,
   "id": "519f8143",
   "metadata": {},
   "outputs": [
    {
     "ename": "TypeError",
     "evalue": "'tuple' object does not support item assignment",
     "output_type": "error",
     "traceback": [
      "\u001b[1;31m---------------------------------------------------------------------------\u001b[0m",
      "\u001b[1;31mTypeError\u001b[0m                                 Traceback (most recent call last)",
      "Input \u001b[1;32mIn [8]\u001b[0m, in \u001b[0;36m<cell line: 3>\u001b[1;34m()\u001b[0m\n\u001b[0;32m      1\u001b[0m \u001b[38;5;66;03m#3.Check that a tuple cannot be changed in Python.\u001b[39;00m\n\u001b[0;32m      2\u001b[0m tp1\u001b[38;5;241m=\u001b[39m(\u001b[38;5;241m1\u001b[39m,\u001b[38;5;124m\"\u001b[39m\u001b[38;5;124mpakistan\u001b[39m\u001b[38;5;124m\"\u001b[39m,\u001b[38;5;241m4\u001b[39m)\n\u001b[1;32m----> 3\u001b[0m tp1[\u001b[38;5;241m2\u001b[39m]\u001b[38;5;241m=\u001b[39m\u001b[38;5;124m\"\u001b[39m\u001b[38;5;124mali\u001b[39m\u001b[38;5;124m\"\u001b[39m\n\u001b[0;32m      4\u001b[0m \u001b[38;5;66;03m# tp1.insert(2,9)\u001b[39;00m\n\u001b[0;32m      5\u001b[0m tp1\n",
      "\u001b[1;31mTypeError\u001b[0m: 'tuple' object does not support item assignment"
     ]
    }
   ],
   "source": [
    "#3.Check that a tuple cannot be changed in Python.\n",
    "tp1=(1,\"pakistan\",4)\n",
    "tp1[2]=\"ali\"\n",
    "# tp1.insert(2,9)\n",
    "tp1"
   ]
  },
  {
   "cell_type": "code",
   "execution_count": 9,
   "id": "72ca42ff",
   "metadata": {},
   "outputs": [
    {
     "name": "stdout",
     "output_type": "stream",
     "text": [
      "23\n"
     ]
    }
   ],
   "source": [
    "#4.Write a program to sum a list with 4 numbers.\n",
    "list1=[1, 2, 3, 4, 6, 7]\n",
    "print(sum(list1))"
   ]
  },
  {
   "cell_type": "code",
   "execution_count": 10,
   "id": "ca229167",
   "metadata": {},
   "outputs": [
    {
     "data": {
      "text/plain": [
       "2"
      ]
     },
     "execution_count": 10,
     "metadata": {},
     "output_type": "execute_result"
    }
   ],
   "source": [
    "#5.Write a program to count the number of zeros in the following tuple:\n",
    "tp1=(0,1, 2, 3, 4, 6,0, 7)\n",
    "tp1.count(0)"
   ]
  },
  {
   "cell_type": "code",
   "execution_count": null,
   "id": "ff3367e5",
   "metadata": {},
   "outputs": [],
   "source": []
  }
 ],
 "metadata": {
  "kernelspec": {
   "display_name": "Python 3 (ipykernel)",
   "language": "python",
   "name": "python3"
  },
  "language_info": {
   "codemirror_mode": {
    "name": "ipython",
    "version": 3
   },
   "file_extension": ".py",
   "mimetype": "text/x-python",
   "name": "python",
   "nbconvert_exporter": "python",
   "pygments_lexer": "ipython3",
   "version": "3.9.12"
  }
 },
 "nbformat": 4,
 "nbformat_minor": 5
}
