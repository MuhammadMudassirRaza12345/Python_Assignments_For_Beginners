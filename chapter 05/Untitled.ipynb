{
 "cells": [
  {
   "cell_type": "code",
   "execution_count": 1,
   "id": "4aea66c5",
   "metadata": {},
   "outputs": [
    {
     "name": "stdout",
     "output_type": "stream",
     "text": [
      "Enter the wordshaadi\n",
      "marriage\n"
     ]
    }
   ],
   "source": [
    "#1.Write a program to create a dictionary of Urdu words with values as their English translation. Provide the user with an option to look it up!\n",
    "\n",
    "dict1={\n",
    "    \"Hum\" :\"WE\",\n",
    "    \"pyar\":\"LOVE\",\n",
    "    \"shaadi\":\"marriage\"\n",
    "    \n",
    "    \n",
    "    \n",
    "}\n",
    "word=input(\"Enter the word\")\n",
    "print(dict1[word])\n",
    "\n"
   ]
  },
  {
   "cell_type": "code",
   "execution_count": 19,
   "id": "666bee8d",
   "metadata": {},
   "outputs": [
    {
     "name": "stdout",
     "output_type": "stream",
     "text": [
      "mylist [3, 2, 5, 42, 12, 2, 1, 3]\n",
      "unique_numbers {1, 2, 3, 5, 42, 12}\n"
     ]
    }
   ],
   "source": [
    "#2.Write a program to input eight numbers from the user and display all the unique numbers (once).\n",
    "numbers=[3, 2, 5, 42, 12, 2, 1, 3]\n",
    "print(\"mylist\",numbers)\n",
    "unique_numbers=set(numbers)\n",
    "print(\"unique_numbers\",unique_numbers)\n",
    " "
   ]
  },
  {
   "cell_type": "code",
   "execution_count": 3,
   "id": "cb83f0a5",
   "metadata": {},
   "outputs": [
    {
     "data": {
      "text/plain": [
       "{'18', 18}"
      ]
     },
     "execution_count": 3,
     "metadata": {},
     "output_type": "execute_result"
    }
   ],
   "source": [
    "# 3.Can we have a set with 18(int) and “18”(str) as a value in it?\n",
    "set1={18,\"18\"}\n",
    "set1"
   ]
  },
  {
   "cell_type": "code",
   "execution_count": 22,
   "id": "3d67c438",
   "metadata": {},
   "outputs": [
    {
     "name": "stdout",
     "output_type": "stream",
     "text": [
      "<class 'set'>\n"
     ]
    },
    {
     "data": {
      "text/plain": [
       "0"
      ]
     },
     "execution_count": 22,
     "metadata": {},
     "output_type": "execute_result"
    }
   ],
   "source": [
    "s = set()\n",
    "print(type(s)) \n",
    "len(s)\n"
   ]
  },
  {
   "cell_type": "code",
   "execution_count": 25,
   "id": "7b1035b9",
   "metadata": {},
   "outputs": [
    {
     "name": "stdout",
     "output_type": "stream",
     "text": [
      "2\n"
     ]
    },
    {
     "data": {
      "text/plain": [
       "{20, '20'}"
      ]
     },
     "execution_count": 25,
     "metadata": {},
     "output_type": "execute_result"
    }
   ],
   "source": [
    "#What will be the length of S after the above operations?\n",
    "s.add(20)\n",
    "\n",
    "s.add(20.0)\n",
    "\n",
    "s.add(\"20\") \n",
    "print(len(s))\n",
    "s"
   ]
  },
  {
   "cell_type": "code",
   "execution_count": 7,
   "id": "0c66d0bc",
   "metadata": {},
   "outputs": [
    {
     "data": {
      "text/plain": [
       "{10, 20, 29, 50, 'KARACHI', 'LAHORE', 'Pakistan', True}"
      ]
     },
     "execution_count": 7,
     "metadata": {},
     "output_type": "execute_result"
    }
   ],
   "source": [
    "khi1  = {10,20,29,\"Pakistan\",\"KARACHI\",\"LAHORE\",True} \n",
    "khi1.add(50)\n",
    "\n",
    "khi1"
   ]
  },
  {
   "cell_type": "code",
   "execution_count": 8,
   "id": "768b2e9b",
   "metadata": {},
   "outputs": [
    {
     "name": "stdout",
     "output_type": "stream",
     "text": [
      "<class 'dict'>\n"
     ]
    }
   ],
   "source": [
    "#5.S = {}, what is the type of S?\n",
    "S = {}\n",
    "print(type(S))"
   ]
  },
  {
   "cell_type": "code",
   "execution_count": 11,
   "id": "ee6d2b86",
   "metadata": {},
   "outputs": [
    {
     "name": "stdout",
     "output_type": "stream",
     "text": [
      "Enter the name raza\n",
      "Enter the language Urdu\n",
      "Enter the name Astar\n",
      "Enter the language English\n",
      "Enter the name Ahmed\n",
      "Enter the language Farsi\n",
      "Enter the name Aaakash\n",
      "Enter the language Hindi\n",
      "{'raza': 'Urdu', 'Astar': 'English', 'Ahmed': 'Farsi', 'Aaakash': 'Hindi'}\n"
     ]
    }
   ],
   "source": [
    "#6.Create an empty dictionary. Allow 4 friends to enter their favorite language as values and use keys as their names. Assume that the names are unique\n",
    "languages={}\n",
    "for i in range(1,5):\n",
    "    names=input(\"Enter the name \")\n",
    "    language=input(\"Enter the language \")\n",
    "    languages[names]=language\n",
    "    \n",
    "    \n",
    "print(languages)\n",
    "\n",
    " \n"
   ]
  },
  {
   "cell_type": "code",
   "execution_count": 27,
   "id": "decec5a8",
   "metadata": {},
   "outputs": [
    {
     "name": "stdout",
     "output_type": "stream",
     "text": [
      "Enter the name raza\n",
      "Enter the language urdu\n",
      "Enter the name ali \n",
      "Enter the language pashto\n",
      "Enter the name fahad\n",
      "Enter the language panjabi\n",
      "Enter the name raza\n",
      "Enter the language ilabadi\n",
      "{'raza': 'ilabadi', 'ali ': 'pashto', 'fahad': 'panjabi'}\n"
     ]
    }
   ],
   "source": [
    "#7.If the names of 2 friends are the same but differnt language; what will happen to the program in Program 6?\n",
    "languages={}\n",
    "for i in range(1,5):\n",
    "    names=input(\"Enter the name \")\n",
    "    language=input(\"Enter the language \")\n",
    "    languages[names]=language\n",
    "    \n",
    "    \n",
    "print(languages)\n",
    "\n",
    "#note dictionary have always unique key names but not necessary unique key value\n",
    "#here it ill not take raza : ilabadi because raza is already taken as key before"
   ]
  },
  {
   "cell_type": "code",
   "execution_count": 28,
   "id": "e9e76c66",
   "metadata": {},
   "outputs": [
    {
     "name": "stdout",
     "output_type": "stream",
     "text": [
      "Enter the name fahad\n",
      "Enter the language urdu\n",
      "Enter the name ali\n",
      "Enter the language urdu\n",
      "Enter the name raza\n",
      "Enter the language ilabadi\n",
      "Enter the name hassan\n",
      "Enter the language sindhi\n",
      "{'fahad': 'urdu', 'ali': 'urdu', 'raza': 'ilabadi', 'hassan': 'sindhi'}\n"
     ]
    }
   ],
   "source": [
    "#8.If the languages of two friends are the same; what will happen to the program in Program 6?\n",
    "languages={}\n",
    "for i in range(1,5):\n",
    "    names=input(\"Enter the name \")\n",
    "    language=input(\"Enter the language \")\n",
    "    languages[names]=language\n",
    "    \n",
    "    \n",
    "print(languages)\n"
   ]
  },
  {
   "cell_type": "code",
   "execution_count": 18,
   "id": "0248ad63",
   "metadata": {},
   "outputs": [
    {
     "ename": "TypeError",
     "evalue": "unhashable type: 'list'",
     "output_type": "error",
     "traceback": [
      "\u001b[1;31m---------------------------------------------------------------------------\u001b[0m",
      "\u001b[1;31mTypeError\u001b[0m                                 Traceback (most recent call last)",
      "Input \u001b[1;32mIn [18]\u001b[0m, in \u001b[0;36m<cell line: 2>\u001b[1;34m()\u001b[0m\n\u001b[0;32m      1\u001b[0m \u001b[38;5;66;03m#9.\tCan you change the values inside a list which is contained in set S:\u001b[39;00m\n\u001b[1;32m----> 2\u001b[0m S \u001b[38;5;241m=\u001b[39m {\u001b[38;5;241m8\u001b[39m, \u001b[38;5;241m7\u001b[39m, \u001b[38;5;241m12\u001b[39m, \u001b[38;5;124m\"\u001b[39m\u001b[38;5;124mHarry\u001b[39m\u001b[38;5;124m\"\u001b[39m, [\u001b[38;5;241m1\u001b[39m, \u001b[38;5;241m2\u001b[39m]}\n",
      "\u001b[1;31mTypeError\u001b[0m: unhashable type: 'list'"
     ]
    }
   ],
   "source": [
    "#9.\tCan you change the values inside a list which is contained in set S:\n",
    "S = {8, 7, 12, \"Harry\", [1, 2]}\n"
   ]
  },
  {
   "cell_type": "code",
   "execution_count": 17,
   "id": "d52cc23e",
   "metadata": {},
   "outputs": [
    {
     "name": "stdout",
     "output_type": "stream",
     "text": [
      "{8, 'Harry', 12, 7}\n"
     ]
    }
   ],
   "source": [
    "print(S)"
   ]
  },
  {
   "cell_type": "code",
   "execution_count": null,
   "id": "953d25ee",
   "metadata": {},
   "outputs": [],
   "source": []
  }
 ],
 "metadata": {
  "kernelspec": {
   "display_name": "Python 3 (ipykernel)",
   "language": "python",
   "name": "python3"
  },
  "language_info": {
   "codemirror_mode": {
    "name": "ipython",
    "version": 3
   },
   "file_extension": ".py",
   "mimetype": "text/x-python",
   "name": "python",
   "nbconvert_exporter": "python",
   "pygments_lexer": "ipython3",
   "version": "3.9.12"
  }
 },
 "nbformat": 4,
 "nbformat_minor": 5
}
