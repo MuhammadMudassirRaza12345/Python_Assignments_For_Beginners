{
 "cells": [
  {
   "cell_type": "code",
   "execution_count": 4,
   "id": "e6e78b1e",
   "metadata": {},
   "outputs": [
    {
     "name": "stdout",
     "output_type": "stream",
     "text": [
      "50 is greater\n"
     ]
    }
   ],
   "source": [
    "#1.\tWrite a program to find the greatest of four numbers entered by the user.\n",
    "a=10\n",
    "b=20\n",
    "c=50\n",
    "d=8\n",
    "if ((a > b) and (a > c) and (a > d)) :\n",
    "    print(f\"{a} is greater\")\n",
    "elif (b > a) and (b > c) and  (b > d) :\n",
    "    print(f\"{b} is greater\")    \n",
    "    \n",
    "elif (c > a and c > b and c > d) :\n",
    "    print(f\"{c} is greater\")        \n",
    "else:\n",
    "     print(f\"{d} is greater\")"
   ]
  },
  {
   "cell_type": "code",
   "execution_count": 6,
   "id": "64cb24f7",
   "metadata": {},
   "outputs": [
    {
     "name": "stdout",
     "output_type": "stream",
     "text": [
      "Enter the number90\n",
      "Enter the number98\n",
      "Enter the number78\n",
      "pass\n"
     ]
    }
   ],
   "source": [
    "#2.Write a program to find out whether a student is pass or fail if it requires a total of 40% and at least 33% in each subject to pass. Assume 3 subjects and take marks as an input from the user.\n",
    "phs=int(input(\"Enter the number\"))\n",
    "chem=int(input(\"Enter the number\"))\n",
    "maths=int(input(\"Enter the number\"))\n",
    "total=phs+chem+maths\n",
    "per=(total*300)/100 \n",
    "if per >= 40:\n",
    "    print(\"pass\")\n",
    "else:\n",
    "    print(\"fail\")"
   ]
  },
  {
   "cell_type": "code",
   "execution_count": 8,
   "id": "a1627f97",
   "metadata": {},
   "outputs": [
    {
     "name": "stdout",
     "output_type": "stream",
     "text": [
      " write textbuy now\n",
      "It is spam \n"
     ]
    }
   ],
   "source": [
    "#3.\tA spam comment is defined as a text containing the following keywords:\n",
    "#“make a lot of money”, “buy now”, “subscribe this”, “click this”. Write a program to detect these spams.\n",
    "check_tect=input(\" write text\")\n",
    "if check_tect == \"make a lot of money\" or check_tect == \"buy now\" or check_tect == \"subscribe this\" or check_tect == \"subscribe thi\":\n",
    "    print(\"It is spam \")\n",
    "\n",
    "else:\n",
    "    print(\"approve keyword\")\n",
    "\n"
   ]
  },
  {
   "cell_type": "code",
   "execution_count": 9,
   "id": "c5eae1f0",
   "metadata": {},
   "outputs": [
    {
     "name": "stdout",
     "output_type": "stream",
     "text": [
      " write textraza\n",
      "approve keyword\n"
     ]
    }
   ],
   "source": [
    "check_tect=input(\" write text\")\n",
    "if check_tect == \"make a lot of money\" or check_tect == \"buy now\" or check_tect == \"subscribe this\" or check_tect == \"subscribe thi\":\n",
    "    print(\"It is spam \")\n",
    "\n",
    "else:\n",
    "    print(\"approve keyword\")\n"
   ]
  },
  {
   "cell_type": "code",
   "execution_count": 11,
   "id": "52c0f533",
   "metadata": {},
   "outputs": [
    {
     "name": "stdout",
     "output_type": "stream",
     "text": [
      "Enter nameraza hassan fahad\n",
      "greater than 10 characters in raza hassan fahad\n"
     ]
    }
   ],
   "source": [
    "#4.\tWrite a program to find whether a given username contains less than 10 characters or not.en\n",
    "name=input(\"Enter name\")\n",
    "if len(name) < 10:\n",
    "    print(f\"less than 10 characters in {name}\")\n",
    "else:\n",
    "    print(f\"greater than 10 characters in {name}\")\n",
    "    "
   ]
  },
  {
   "cell_type": "code",
   "execution_count": 12,
   "id": "121b7a11",
   "metadata": {},
   "outputs": [
    {
     "name": "stdout",
     "output_type": "stream",
     "text": [
      "Enter the namehasnain\n",
      "hasnain is not in list\n"
     ]
    }
   ],
   "source": [
    "#5.Write a program that finds out whether a given name is present in a list or not.,\n",
    "names=[\"raza\",\"ali\",\"hassan\",\"sharib\"]\n",
    "\n",
    "name=input(\"Enter the name\")\n",
    "\n",
    "if name in names:\n",
    "    print(f\"{name} is list\")\n",
    "else:\n",
    "    print(f\"{name} is not in list\")\n",
    "\n"
   ]
  },
  {
   "cell_type": "code",
   "execution_count": 13,
   "id": "bd443666",
   "metadata": {},
   "outputs": [
    {
     "name": "stdout",
     "output_type": "stream",
     "text": [
      "Enter the nameali\n",
      "ali is list\n"
     ]
    }
   ],
   "source": [
    "names=[\"raza\",\"ali\",\"hassan\",\"sharib\"]\n",
    "\n",
    "name=input(\"Enter the name\")\n",
    "\n",
    "if name in names:\n",
    "    print(f\"{name} is list\")\n",
    "else:\n",
    "    print(f\"{name} is not in list\")\n"
   ]
  },
  {
   "cell_type": "code",
   "execution_count": 14,
   "id": "d87de36a",
   "metadata": {},
   "outputs": [
    {
     "name": "stdout",
     "output_type": "stream",
     "text": [
      "Enter the maths marks :60\n",
      "Enter the PST marks :89\n",
      "Enter the Isl marks :90\n",
      "Enter the Eng marks :78\n",
      "Enter the Urdu marks :59\n",
      "Your Total Marks is : 376 \n",
      "\n",
      "Your percentage  is : 75.2 %\n",
      " you got A Grade\n"
     ]
    }
   ],
   "source": [
    "# 6.\tWrite a program to calculate the grade of a student from his marks from the following scheme:\n",
    "# 90-100\tEx\n",
    "# 80-90\tA\n",
    "# 70-80\tB\n",
    "# 60-70\tC\n",
    "# 50-60\tD\n",
    "# <50\tF\n",
    "\n",
    "a=int(input(\"Enter the maths marks :\"))\n",
    "b=int(input(\"Enter the PST marks :\"))\n",
    "c=int(input(\"Enter the Isl marks :\"))\n",
    "d=int(input(\"Enter the Eng marks :\"))\n",
    "e=int(input(\"Enter the Urdu marks :\"))\n",
    "sum=a+b+c+d+e\n",
    "print(\"Your Total Marks is :\",sum,\"\\n\")\n",
    "per=float(sum*100/500)\n",
    "print(\"Your percentage  is :\",per,\"%\")\n",
    "\n",
    "\n",
    "if per >= 80 :\n",
    "    print(\" you got A-one Grade\")\n",
    "elif  per >=70 and per < 80  :    \n",
    "     print(\" you got A Grade\")\n",
    "elif  per >=50 and per < 69  :    \n",
    "     print(\" you got B Grade\")     \n",
    "elif  per >=42 and per < 49  :    \n",
    "     print(\" you got C Grade\")  \n",
    "else :\n",
    "    print(\" invalid percentage\")"
   ]
  },
  {
   "cell_type": "code",
   "execution_count": 15,
   "id": "90dce61e",
   "metadata": {},
   "outputs": [
    {
     "name": "stdout",
     "output_type": "stream",
     "text": [
      "Enter a post: harry\n",
      "Yes! the post contains the name Harry.\n"
     ]
    }
   ],
   "source": [
    "#7.\tWrite a program to find out whether a given post is talking about “Harry” or not.\n",
    "post = input(\"Enter a post: \")\n",
    "if 'harry' in post.lower():\n",
    "    print(\"Yes! the post contains the name Harry.\")\n",
    "else:\n",
    "    print(\"No! the post does not contain the name Harry\")"
   ]
  },
  {
   "cell_type": "code",
   "execution_count": 16,
   "id": "ffde0193",
   "metadata": {},
   "outputs": [
    {
     "name": "stdout",
     "output_type": "stream",
     "text": [
      "Enter a post: raza\n",
      "No! the post does not contain the name Harry\n"
     ]
    }
   ],
   "source": [
    "post = input(\"Enter a post: \")\n",
    "if 'harry' in post.lower():\n",
    "    print(\"Yes! the post contains the name Harry.\")\n",
    "else:\n",
    "    print(\"No! the post does not contain the name Harry\")"
   ]
  },
  {
   "cell_type": "code",
   "execution_count": null,
   "id": "95da8552",
   "metadata": {},
   "outputs": [],
   "source": []
  }
 ],
 "metadata": {
  "kernelspec": {
   "display_name": "Python 3 (ipykernel)",
   "language": "python",
   "name": "python3"
  },
  "language_info": {
   "codemirror_mode": {
    "name": "ipython",
    "version": 3
   },
   "file_extension": ".py",
   "mimetype": "text/x-python",
   "name": "python",
   "nbconvert_exporter": "python",
   "pygments_lexer": "ipython3",
   "version": "3.9.12"
  }
 },
 "nbformat": 4,
 "nbformat_minor": 5
}
