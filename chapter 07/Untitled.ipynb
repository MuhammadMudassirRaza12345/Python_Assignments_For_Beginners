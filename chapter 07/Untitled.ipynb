{
 "cells": [
  {
   "cell_type": "code",
   "execution_count": 1,
   "id": "286ee106",
   "metadata": {},
   "outputs": [
    {
     "name": "stdout",
     "output_type": "stream",
     "text": [
      "Enter the number for table you want12\n",
      "Enter the range of number at which number table start e.g:2 x 10 here 2 is starting range1\n",
      "Enter the range of number at which number table end e.g:2 x 10 here 10 is ending range10\n",
      "12 x 1 = 12\n",
      "12 x 2 = 24\n",
      "12 x 3 = 36\n",
      "12 x 4 = 48\n",
      "12 x 5 = 60\n",
      "12 x 6 = 72\n",
      "12 x 7 = 84\n",
      "12 x 8 = 96\n",
      "12 x 9 = 108\n",
      "12 x 10 = 120\n"
     ]
    }
   ],
   "source": [
    "#1.Write a program to print the multiplication table of a given number using for loop.\n",
    "number=int(input(\"Enter the number for table you want\"))\n",
    "start=int(input(\"Enter the range of number at which number table start e.g:2 x 10 here 2 is starting range\"))\n",
    "end=int(input(\"Enter the range of number at which number table end e.g:2 x 10 here 10 is ending range\"))\n",
    "for i in range(start,end+1):\n",
    "    print(number,\"x\",i,\"=\",number*i)\n"
   ]
  },
  {
   "cell_type": "code",
   "execution_count": 2,
   "id": "3dd303a1",
   "metadata": {},
   "outputs": [
    {
     "name": "stdout",
     "output_type": "stream",
     "text": [
      "Greeting Harry \n",
      "\n",
      "Greeting Sohan \n",
      "\n",
      "Greeting Sachin \n",
      "\n",
      "Greeting Rahul \n",
      "\n"
     ]
    }
   ],
   "source": [
    "#2.\tWrite a program to greet all the person names stored in a list l1 and which starts with S.\n",
    "l1 = [\"Harry\", \"Sohan\", \"Sachin\", \"Rahul\"]\n",
    "for l in l1:\n",
    "    print(\"Greeting\",l,\"\\n\")\n",
    "\n"
   ]
  },
  {
   "cell_type": "code",
   "execution_count": 3,
   "id": "913f3a63",
   "metadata": {},
   "outputs": [
    {
     "name": "stdout",
     "output_type": "stream",
     "text": [
      "Enter the number for table you want4\n",
      "Enter the range of number at which number table start e.g:2 x 10 here 2 is starting range1\n",
      "Enter the range of number at which number table end e.g:2 x 10 here 10 is ending range10\n",
      "4 x 1 = 4\n",
      "4 x 2 = 8\n",
      "4 x 3 = 12\n",
      "4 x 4 = 16\n",
      "4 x 5 = 20\n",
      "4 x 6 = 24\n",
      "4 x 7 = 28\n",
      "4 x 8 = 32\n",
      "4 x 9 = 36\n",
      "4 x 10 = 40\n"
     ]
    }
   ],
   "source": [
    "#3.\tAttempt problem 1 using a while loop.\n",
    "number=int(input(\"Enter the number for table you want\"))\n",
    "start=int(input(\"Enter the range of number at which number table start e.g:2 x 10 here 2 is starting range\"))\n",
    "end=int(input(\"Enter the range of number at which number table end e.g:2 x 10 here 10 is ending range\"))\n",
    "\n",
    "while start <= end :\n",
    "    print(number,\"x\",start,\"=\",number*start)\n",
    "    start+=1\n",
    "    \n"
   ]
  },
  {
   "cell_type": "code",
   "execution_count": 4,
   "id": "86c2c96c",
   "metadata": {},
   "outputs": [
    {
     "name": "stdout",
     "output_type": "stream",
     "text": [
      "Enter the number5\n",
      "5 is a prime number\n"
     ]
    }
   ],
   "source": [
    "#4.\tWrite a program to find whether a given number is prime or not.\n",
    "#hint:prime number is greater than 1\n",
    "number=int(input(\"Enter the number\"))\n",
    "flag=False\n",
    "if number > 1:\n",
    "    for i in range(2,number):\n",
    "        # check for factors\n",
    "        if number % i == 0:\n",
    "       # if factor is found, set flag to True\n",
    "            flag=True\n",
    "        # break out of loop\n",
    "            break\n",
    "# check if flag is True\n",
    "    if flag:\n",
    "        print(number, \"is not a prime number\")\n",
    "    else:\n",
    "        print(number, \"is a prime number\")        \n",
    "        \n",
    "        \n",
    "            \n",
    "            \n",
    "\n",
    "\n",
    "\n",
    "\n"
   ]
  },
  {
   "cell_type": "code",
   "execution_count": 7,
   "id": "db5603ba",
   "metadata": {},
   "outputs": [
    {
     "name": "stdout",
     "output_type": "stream",
     "text": [
      "Enter the number4\n",
      "4 is not a prime number\n",
      "2 times 2 is 4\n"
     ]
    }
   ],
   "source": [
    "#Another ways\n",
    " #Program to check if a number is prime or not\n",
    "\n",
    "num =int(input(\"Enter the number\"))  \n",
    "\n",
    "# To take input from the user\n",
    "#num = int(input(\"Enter a number: \"))\n",
    "\n",
    "# prime numbers are greater than 1\n",
    "if num > 1:\n",
    "    # check for factors\n",
    "    for i in range(2,num):\n",
    "        if (num % i) == 0:\n",
    "            print(num,\"is not a prime number\")\n",
    "            print(i,\"times\",num//i,\"is\",num)\n",
    "            break\n",
    "    else:\n",
    "        print(num,\"is a prime number\")\n",
    "       \n",
    "\n",
    " #if input number is less than"
   ]
  },
  {
   "cell_type": "code",
   "execution_count": 5,
   "id": "41d021b6",
   "metadata": {},
   "outputs": [
    {
     "name": "stdout",
     "output_type": "stream",
     "text": [
      "Enter a number: 5\n",
      "The sum is 15\n"
     ]
    }
   ],
   "source": [
    "#5.Write a program to find the sum of first n natural numbers using a while loop.\n",
    "num = int(input(\"Enter a number: \"))  \n",
    "  \n",
    "if num < 0:  \n",
    "    print(\"Enter a positive number\")  \n",
    "else:  \n",
    "    sum = 0  \n",
    "   # use while loop to iterate un till zero  \n",
    "    while(num > 0): \n",
    "        sum += num  \n",
    "        num -= 1  \n",
    "    print(\"The sum is\",sum)  \n",
    "    \n",
    "# for e.g:num= 5   \n",
    "# 5+4+3+2+1\n",
    "    \n",
    "# Note: To test the program for a different number, change the value of num.\n",
    "\n",
    "# Initially, the sum is initialized to 0. And, the number is stored in variable num.\n",
    "\n",
    "# Then, we used the while loop to iterate until num becomes zero. In each iteration of the loop, we have added the num to sum and the value of num is decreased by 1.    "
   ]
  },
  {
   "cell_type": "code",
   "execution_count": 6,
   "id": "4e0e2973",
   "metadata": {},
   "outputs": [
    {
     "name": "stdout",
     "output_type": "stream",
     "text": [
      "Enter a number: 3\n",
      "The factorial of 3 is 6\n"
     ]
    }
   ],
   "source": [
    "#6.Write a program to calculate the factorial of a given number using for loop.\n",
    "# Python program to find the factorial of a number provided by the user.\n",
    "\n",
    " \n",
    "num = int(input(\"Enter a number: \"))  \n",
    "\n",
    " \n",
    "factorial = 1\n",
    "\n",
    "# check if the number is negative, positive or zero\n",
    "if num < 0:\n",
    "    print(\"Sorry, factorial does not exist for negative numbers\")\n",
    "elif num == 0:\n",
    "    print(\"The factorial of 0 is 1\")\n",
    "else:\n",
    "    for i in range(1,num + 1):\n",
    "        factorial = factorial*i\n",
    "    print(\"The factorial of\",num,\"is\",factorial)\n",
    " \n"
   ]
  },
  {
   "cell_type": "code",
   "execution_count": 23,
   "id": "6c58c1a1",
   "metadata": {},
   "outputs": [
    {
     "name": "stdout",
     "output_type": "stream",
     "text": [
      "Enter the number3\n",
      "      *  \n",
      "    * *  \n",
      "  * * *  \n"
     ]
    }
   ],
   "source": [
    "#Write a program to print the following star pattern.\n",
    "#      *\n",
    "\n",
    "#    ***  \n",
    "\n",
    "#  ***** for n=3\n",
    "\n",
    "n=int(input(\"Enter the number\"))\n",
    "\n",
    "for i in range(n):\n",
    "    for j in range(i,n):\n",
    "        print(\" \",end=\" \")\n",
    "  \n",
    "    for j in range(i+1):\n",
    "        print(\"*\",end=\" \")\n",
    "    print(\" \") \n",
    "   \n",
    "    \n",
    "    "
   ]
  },
  {
   "cell_type": "code",
   "execution_count": 27,
   "id": "17e12a40",
   "metadata": {},
   "outputs": [
    {
     "name": "stdout",
     "output_type": "stream",
     "text": [
      "Enter the number3\n",
      "*        \n",
      "* *      \n",
      "* * *    \n"
     ]
    }
   ],
   "source": [
    "#8 Write a program to print the following star pattern:\n",
    "# *\n",
    "\n",
    "# **\n",
    "\n",
    "# *** for n = 3\n",
    "\n",
    "\n",
    "n=int(input(\"Enter the number\"))\n",
    "\n",
    "for i in range(n):\n",
    "    \n",
    "    for j in range(i+1):\n",
    "        print(\"*\",end=\" \")\n",
    "    \n",
    "    for j in range(i,n):\n",
    "        print(\" \",end=\" \")\n",
    "    print(\" \") \n"
   ]
  },
  {
   "cell_type": "code",
   "execution_count": 30,
   "id": "886992e3",
   "metadata": {},
   "outputs": [
    {
     "name": "stdout",
     "output_type": "stream",
     "text": [
      "Enter the number4\n",
      "* * * *  \n",
      "* * * *  \n",
      "* * * *  \n",
      "* * * *  \n"
     ]
    }
   ],
   "source": [
    "#10Write a program to print the following star pattern:\n",
    "# * * *\n",
    "# *   *             #For n=3\n",
    "# * * * \n",
    "\n",
    "n=int(input(\"Enter the number\"))\n",
    "\n",
    "for i in range(n):\n",
    "    \n",
    "    for j in range(n):\n",
    "        print(\"*\",end=\" \")\n",
    "    print(\" \")"
   ]
  },
  {
   "cell_type": "code",
   "execution_count": null,
   "id": "139b79ce",
   "metadata": {},
   "outputs": [],
   "source": []
  }
 ],
 "metadata": {
  "kernelspec": {
   "display_name": "Python 3 (ipykernel)",
   "language": "python",
   "name": "python3"
  },
  "language_info": {
   "codemirror_mode": {
    "name": "ipython",
    "version": 3
   },
   "file_extension": ".py",
   "mimetype": "text/x-python",
   "name": "python",
   "nbconvert_exporter": "python",
   "pygments_lexer": "ipython3",
   "version": "3.9.12"
  }
 },
 "nbformat": 4,
 "nbformat_minor": 5
}
