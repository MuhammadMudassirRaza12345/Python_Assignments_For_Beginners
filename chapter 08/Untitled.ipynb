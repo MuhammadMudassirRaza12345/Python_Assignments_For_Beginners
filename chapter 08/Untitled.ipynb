{
 "cells": [
  {
   "cell_type": "code",
   "execution_count": 1,
   "id": "d1d9d3e0",
   "metadata": {},
   "outputs": [
    {
     "name": "stdout",
     "output_type": "stream",
     "text": [
      "Enter first the number5\n",
      "Enter second the number3\n",
      "Enter third the number5\n",
      "5 is greater\n"
     ]
    }
   ],
   "source": [
    "#1.Write a program using the function to find the greatest of three numbers.\n",
    "a=int(input(\"Enter first the number\"))\n",
    "b=int(input(\"Enter second the number\"))\n",
    "c=int(input(\"Enter third the number\"))\n",
    " \n",
    "def greatest(a,b,c):\n",
    "        \n",
    "    if ((a > b) and (a > c) ):\n",
    "        print(f\"{a} is greater\")\n",
    "    elif (b > a) and (b > c) :\n",
    "        print(f\"{b} is greater\")    \n",
    "    \n",
    "    else:\n",
    "        print(f\"{c} is greater\")        \n",
    " \n",
    "greatest(a,b,c)        "
   ]
  },
  {
   "cell_type": "code",
   "execution_count": 2,
   "id": "03d93f1e",
   "metadata": {},
   "outputs": [
    {
     "name": "stdout",
     "output_type": "stream",
     "text": [
      "Temperature value in degree Celsius: 43\n",
      "The 43.00 degree Celsius is equal to: 109.40 Fahrenheit\n",
      "----OR----\n",
      "Temperature value in degree Celsius: 55\n",
      "The 55.00 degree Celsius is equal to: 131.00 Fahrenheit\n"
     ]
    }
   ],
   "source": [
    "#2.Write a python program using the function to convert Celsius to Fahrenheit.\n",
    "\n",
    "\n",
    "celsius_1 = float(input(\"Temperature value in degree Celsius: \" ))  \n",
    "  \n",
    "# For Converting the temperature to degree Fahrenheit by using the above  \n",
    "# given formula  \n",
    "Fahrenheit_1 = (celsius_1 * 1.8) + 32  \n",
    "    \n",
    "# print the result  \n",
    "print('The %.2f degree Celsius is equal to: %.2f Fahrenheit'  \n",
    "      %(celsius_1, Fahrenheit_1))  \n",
    "  \n",
    "print(\"----OR----\")  \n",
    "celsius_2 = float (input(\"Temperature value in degree Celsius: \" ))  \n",
    "Fahrenheit_2 = (celsius_2 * 9/5) + 32  \n",
    "    \n",
    "# print the result  \n",
    "print ('The %.2f degree Celsius is equal to: %.2f Fahrenheit'  \n",
    "      %(celsius_2, Fahrenheit_2))  \n"
   ]
  },
  {
   "cell_type": "code",
   "execution_count": 3,
   "id": "a97ce771",
   "metadata": {},
   "outputs": [
    {
     "name": "stdout",
     "output_type": "stream",
     "text": [
      "*********"
     ]
    }
   ],
   "source": [
    "#3.How do you prevent a python print() function to print a new line at the end?\n",
    "def pat(n):\n",
    "    for i in range(n):\n",
    "        for j in range(n):\n",
    "            print('*', end='')\n",
    " \n",
    "\n",
    "pat(3)"
   ]
  },
  {
   "cell_type": "code",
   "execution_count": 4,
   "id": "cfffbbf2",
   "metadata": {},
   "outputs": [
    {
     "name": "stdout",
     "output_type": "stream",
     "text": [
      "Enter a number: 5\n",
      "The sum is 15\n"
     ]
    }
   ],
   "source": [
    "#4.Write a recursive function to calculate the sum of first n natural numbers.\n",
    "\n",
    "#5.Write a program to find the sum of first n natural numbers using a while loop.\n",
    "num = int(input(\"Enter a number: \"))  \n",
    "def rec(num):\n",
    "    if num < 0:  \n",
    "        print(\"Enter a positive number\")  \n",
    "    else:  \n",
    "        sum = 0  \n",
    "        # use while loop to iterate un till zero  \n",
    "        while(num > 0): \n",
    "            sum += num  \n",
    "            num -= 1  \n",
    "        print(\"The sum is\",sum)  \n",
    "        \n",
    "        \n",
    "rec(num)        \n",
    "    \n",
    "# for e.g:num= 5   \n",
    "# 5+4+3+2+1\n",
    "    \n",
    "# Note: To test the program for a different number, change the value of num.\n",
    "\n",
    "# Initially, the sum is initialized to 0. And, the number is stored in variable num.\n",
    "\n",
    "# Then, we used the while loop to iterate until num becomes zero. In each iteration of the loop, we have added the num to sum and the value of num is decreased by 1.    \n"
   ]
  },
  {
   "cell_type": "code",
   "execution_count": 5,
   "id": "fd1d5e97",
   "metadata": {},
   "outputs": [
    {
     "name": "stdout",
     "output_type": "stream",
     "text": [
      "***    \n",
      "**    \n",
      "*    \n"
     ]
    }
   ],
   "source": [
    "# 5.Write a python function to print the first n lines of the following pattern.\n",
    "# ***\n",
    "\n",
    "# **       #For n = 3\n",
    "\n",
    "# *\n",
    "\n",
    "\n",
    "def patt(n):\n",
    "    for i in range(n):\n",
    "        for j in range(i,n):\n",
    "            print(\"*\",end=\"\")\n",
    "            \n",
    "#         for j in range(n):\n",
    "#              print(\"\",end=\"\")\n",
    "            \n",
    "        for j in range(n): \n",
    "             print(\" \",end=\"\")\n",
    "        print(\" \")\n",
    "\n",
    "patt(3)\n",
    "\n",
    "\n",
    "\n"
   ]
  },
  {
   "cell_type": "code",
   "execution_count": 26,
   "id": "282bb42d",
   "metadata": {},
   "outputs": [
    {
     "name": "stdout",
     "output_type": "stream",
     "text": [
      "Enter the value in inch: 4\n",
      "4inch = 10.16cm\n"
     ]
    }
   ],
   "source": [
    "#6.Write a python function that converts inches to cms.\n",
    "\n",
    "def measure():\n",
    "    inch_value= int(input('Enter the value in inch: '))\n",
    "    cm_value = 2.54 * inch_value\n",
    "    print(f\"{inch_value}inch = {cm_value}cm\")    \n",
    "measure()\n",
    " \n",
    "\n",
    "    \n"
   ]
  },
  {
   "cell_type": "code",
   "execution_count": 36,
   "id": "974194a6",
   "metadata": {},
   "outputs": [
    {
     "name": "stdout",
     "output_type": "stream",
     "text": [
      "['aa', 'bb']\n"
     ]
    }
   ],
   "source": [
    "#7.Write a python function to remove a given word from a list and strip it at the same time.\n",
    "list=[\"aa\",\"bb\",\"cc\"]\n",
    "b=list.remove(\"cc\")\n",
    "print(list)\n",
    " "
   ]
  },
  {
   "cell_type": "code",
   "execution_count": 37,
   "id": "e67aa026",
   "metadata": {},
   "outputs": [
    {
     "name": "stdout",
     "output_type": "stream",
     "text": [
      "Enter the number for table you want4\n",
      "Enter the range of number at which number table start e.g:2 x 10 here 2 is starting range1\n",
      "Enter the range of number at which number table end e.g:2 x 10 here 10 is ending range10\n",
      "4 x 1 = 4\n",
      "4 x 2 = 8\n",
      "4 x 3 = 12\n",
      "4 x 4 = 16\n",
      "4 x 5 = 20\n",
      "4 x 6 = 24\n",
      "4 x 7 = 28\n",
      "4 x 8 = 32\n",
      "4 x 9 = 36\n",
      "4 x 10 = 40\n"
     ]
    }
   ],
   "source": [
    "#8.Write a python function to print the multiplication table of a given number.\n",
    "def table():\n",
    "    number=int(input(\"Enter the number for table you want\"))\n",
    "    start=int(input(\"Enter the range of number at which number table start e.g:2 x 10 here 2 is starting range\"))\n",
    "    end=int(input(\"Enter the range of number at which number table end e.g:2 x 10 here 10 is ending range\"))\n",
    "    for i in range(start,end+1):\n",
    "        print(number,\"x\",i,\"=\",number*i)\n",
    "\n",
    "table()"
   ]
  },
  {
   "cell_type": "code",
   "execution_count": 38,
   "id": "2d0761f2",
   "metadata": {},
   "outputs": [
    {
     "name": "stdout",
     "output_type": "stream",
     "text": [
      " ---------------\n",
      "|Snake Water Gun|\n",
      " ---------------\n",
      "Enter Snake, Water Gun (key: S,W,G): g\n",
      "Tie You Both Entered Same\n",
      "\n",
      "\t******ScoreBoard******\n",
      "\t You: 0 | Computer: 0\n",
      "\t**********************\n",
      "Game No:[1]\n",
      "========================================================\n",
      "Enter Snake, Water Gun (key: S,W,G): w\n",
      "('Computer Enter', 'S')\n",
      "👉 Snake Drink Water\n",
      "\n",
      "\t******ScoreBoard******\n",
      "\t You: 0 | Computer: 1\n",
      "\t**********************\n",
      "Game No:[2]\n",
      "========================================================\n",
      "Enter Snake, Water Gun (key: S,W,G): s\n",
      "Tie You Both Entered Same\n",
      "\n",
      "\t******ScoreBoard******\n",
      "\t You: 0 | Computer: 1\n",
      "\t**********************\n",
      "Game No:[3]\n",
      "========================================================\n",
      "Enter Snake, Water Gun (key: S,W,G): g\n",
      "('Computer Enter', 'W')\n",
      "👉 Gun Drowning in Water \n",
      "\n",
      "\t******ScoreBoard******\n",
      "\t You: 0 | Computer: 2\n",
      "\t**********************\n",
      "Game No:[4]\n",
      "========================================================\n",
      "Enter Snake, Water Gun (key: S,W,G): g\n",
      "('Computer Enter', 'W')\n",
      "👉 Gun Drowning in Water \n",
      "\n",
      "\t******ScoreBoard******\n",
      "\t You: 0 | Computer: 3\n",
      "\t**********************\n",
      "Game No:[5]\n",
      "========================================================\n",
      "Enter Snake, Water Gun (key: S,W,G): w\n",
      "Tie You Both Entered Same\n",
      "\n",
      "\t******ScoreBoard******\n",
      "\t You: 0 | Computer: 3\n",
      "\t**********************\n",
      "Game No:[6]\n",
      "========================================================\n",
      "Enter Snake, Water Gun (key: S,W,G): s\n",
      "Tie You Both Entered Same\n",
      "\n",
      "\t******ScoreBoard******\n",
      "\t You: 0 | Computer: 3\n",
      "\t**********************\n",
      "Game No:[7]\n",
      "========================================================\n",
      "Enter Snake, Water Gun (key: S,W,G): g\n",
      "('Computer Enter', 'S')\n",
      "👉 Gun Shoot the Snake\n",
      "\n",
      "\t******ScoreBoard******\n",
      "\t You: 1 | Computer: 3\n",
      "\t**********************\n",
      "Game No:[8]\n",
      "========================================================\n",
      "Enter Snake, Water Gun (key: S,W,G): s\n",
      "Tie You Both Entered Same\n",
      "\n",
      "\t******ScoreBoard******\n",
      "\t You: 1 | Computer: 3\n",
      "\t**********************\n",
      "Game No:[9]\n",
      "========================================================\n",
      "Enter Snake, Water Gun (key: S,W,G): g\n",
      "('Computer Enter', 'S')\n",
      "👉 Gun Shoot the Snake\n",
      "\n",
      "\t******ScoreBoard******\n",
      "\t You: 2 | Computer: 3\n",
      "\t**********************\n",
      "Game No:[10]\n",
      "========================================================\n",
      "\n",
      "\n",
      "##### Game Khatam Paisa Hajam #####\n",
      "*******************************************\n",
      "😭 Sorry You lose the game 😭\n",
      " computer win the game with 3 score\n"
     ]
    }
   ],
   "source": [
    "# project # 1\n",
    "\n",
    "\n",
    "# snake water gun\n",
    "\n",
    "# rule\n",
    "# Snake vs. Water: Snake drinks the water hence wins.\n",
    "# Water vs. Gun: The gun will drown in water, hence a point for water\n",
    "# Gun vs. Snake: Gun will kill the snake and win.\n",
    "\n",
    "\n",
    "# play 10 time\n",
    "import random\n",
    "\n",
    "print(\" ---------------\")\n",
    "print(\"|Snake Water Gun|\")\n",
    "print(\" ---------------\")\n",
    "\n",
    "listShape = [\"S\", \"W\", \"G\"]\n",
    "\n",
    "userScore = 0\n",
    "computerScore = 0\n",
    "\n",
    "i = 1\n",
    "\n",
    "while i <= 10:\n",
    "    computerShape = str(random.choice(listShape))\n",
    "    userShape = input(\"Enter Snake, Water Gun (key: S,W,G): \").upper()\n",
    "    if userShape == computerShape:\n",
    "        print(\"Tie You Both Entered Same\")\n",
    "\n",
    "    elif computerShape == \"W\" and userShape == \"S\":\n",
    "        print((\"Computer Enter\", computerShape))\n",
    "        print(\"👉 Snake Drink Water\")\n",
    "        userScore += 1\n",
    "\n",
    "    elif computerShape == \"S\" and userShape == \"W\":\n",
    "        print((\"Computer Enter\", computerShape))\n",
    "        print(\"👉 Snake Drink Water\")\n",
    "        computerScore += 1\n",
    "\n",
    "    elif computerShape == \"G\" and userShape == \"W\":\n",
    "        print((\"Computer Enter\", computerShape))\n",
    "        print(\"👉 Gun Drowning in Water \")\n",
    "        userScore += 1\n",
    "    elif computerShape == \"W\" and userShape == \"G\":\n",
    "        print((\"Computer Enter\", computerShape))\n",
    "        print(\"👉 Gun Drowning in Water \")\n",
    "        computerScore += 1\n",
    "\n",
    "    elif computerShape == \"S\" and userShape == \"G\":\n",
    "        print((\"Computer Enter\", computerShape))\n",
    "        print(\"👉 Gun Shoot the Snake\")\n",
    "        userScore += 1\n",
    "    elif computerShape == \"G\" and userShape == \"S\":\n",
    "        print((\"Computer Enter\", computerShape))\n",
    "        print(\"👉 Gun Shoot the Snake\")\n",
    "        computerScore += 1\n",
    "    else:\n",
    "        print(\":(\")\n",
    "\n",
    "    print(\"\\n\\t******ScoreBoard******\")\n",
    "    print(f\"\\t You: {userScore} | Computer: {computerScore}\")\n",
    "    print(\"\\t**********************\")\n",
    "    print(f\"Game No:[{i}]\")\n",
    "    print(\"========================================================\")\n",
    "\n",
    "    i += 1\n",
    "\n",
    "print(\"\\n\\n##### Game Khatam Paisa Hajam #####\")\n",
    "print(\"*******************************************\")\n",
    "if userScore < computerScore:\n",
    "    print(\n",
    "        f\"😭 Sorry You lose the game 😭\\n computer win the \"\n",
    "        f\"game with {computerScore} score\"\n",
    "    )\n",
    "elif userScore == computerScore:\n",
    "    print((Fore.CYAN, \"😅 Game is Tie Play Again 😅\"))\n",
    "else:\n",
    "    print(f\"😄 You Win the Game with {userScore} score 😄\")"
   ]
  },
  {
   "cell_type": "code",
   "execution_count": null,
   "id": "1472a823",
   "metadata": {},
   "outputs": [],
   "source": []
  }
 ],
 "metadata": {
  "kernelspec": {
   "display_name": "Python 3 (ipykernel)",
   "language": "python",
   "name": "python3"
  },
  "language_info": {
   "codemirror_mode": {
    "name": "ipython",
    "version": 3
   },
   "file_extension": ".py",
   "mimetype": "text/x-python",
   "name": "python",
   "nbconvert_exporter": "python",
   "pygments_lexer": "ipython3",
   "version": "3.9.12"
  }
 },
 "nbformat": 4,
 "nbformat_minor": 5
}
